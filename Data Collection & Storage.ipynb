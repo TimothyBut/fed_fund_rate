{
 "cells": [
  {
   "cell_type": "code",
   "execution_count": 1,
   "id": "b2ec8731-d36a-4be7-8368-9ea0e3243bfd",
   "metadata": {},
   "outputs": [],
   "source": [
    "# pyfredapi need API Key which can be applied from below website\n",
    "# https://fred.stlouisfed.org/docs/api/api_key.html\n",
    "\n",
    "# install api for access financial data from FRED website https://fred.stlouisfed.org/\n",
    "!pip install pyfredapi --upgrade --quiet\n",
    "# install api for access google bigquery\n",
    "!pip install google-cloud-bigquery --quiet"
   ]
  },
  {
   "cell_type": "code",
   "execution_count": 2,
   "id": "cfe5bc79-f7f1-4d63-a9a1-26aac0d2078e",
   "metadata": {},
   "outputs": [],
   "source": [
    "# import api for access financial data \n",
    "import pyfredapi as pf\n",
    "# import api for access google bigquery\n",
    "from google.cloud import bigquery as bq\n",
    "# import for getting details for authentication and project id\n",
    "import google.auth"
   ]
  },
  {
   "cell_type": "code",
   "execution_count": 3,
   "id": "3fe8b276-8b9f-4a93-b790-414fde54d645",
   "metadata": {},
   "outputs": [],
   "source": [
    "df = pf.get_series('FEDFUNDS')[['date','value']].set_index('date').rename(columns={'value':'fed_rate'})"
   ]
  },
  {
   "cell_type": "code",
   "execution_count": 4,
   "id": "49f8f8fc-1273-4c38-8b20-fd3e2c024beb",
   "metadata": {},
   "outputs": [
    {
     "data": {
      "text/html": [
       "<div>\n",
       "<style scoped>\n",
       "    .dataframe tbody tr th:only-of-type {\n",
       "        vertical-align: middle;\n",
       "    }\n",
       "\n",
       "    .dataframe tbody tr th {\n",
       "        vertical-align: top;\n",
       "    }\n",
       "\n",
       "    .dataframe thead th {\n",
       "        text-align: right;\n",
       "    }\n",
       "</style>\n",
       "<table border=\"1\" class=\"dataframe\">\n",
       "  <thead>\n",
       "    <tr style=\"text-align: right;\">\n",
       "      <th></th>\n",
       "      <th>fed_rate</th>\n",
       "    </tr>\n",
       "    <tr>\n",
       "      <th>date</th>\n",
       "      <th></th>\n",
       "    </tr>\n",
       "  </thead>\n",
       "  <tbody>\n",
       "    <tr>\n",
       "      <th>1954-07-01</th>\n",
       "      <td>0.80</td>\n",
       "    </tr>\n",
       "    <tr>\n",
       "      <th>1954-08-01</th>\n",
       "      <td>1.22</td>\n",
       "    </tr>\n",
       "    <tr>\n",
       "      <th>1954-09-01</th>\n",
       "      <td>1.07</td>\n",
       "    </tr>\n",
       "    <tr>\n",
       "      <th>1954-10-01</th>\n",
       "      <td>0.85</td>\n",
       "    </tr>\n",
       "    <tr>\n",
       "      <th>1954-11-01</th>\n",
       "      <td>0.83</td>\n",
       "    </tr>\n",
       "    <tr>\n",
       "      <th>...</th>\n",
       "      <td>...</td>\n",
       "    </tr>\n",
       "    <tr>\n",
       "      <th>2024-05-01</th>\n",
       "      <td>5.33</td>\n",
       "    </tr>\n",
       "    <tr>\n",
       "      <th>2024-06-01</th>\n",
       "      <td>5.33</td>\n",
       "    </tr>\n",
       "    <tr>\n",
       "      <th>2024-07-01</th>\n",
       "      <td>5.33</td>\n",
       "    </tr>\n",
       "    <tr>\n",
       "      <th>2024-08-01</th>\n",
       "      <td>5.33</td>\n",
       "    </tr>\n",
       "    <tr>\n",
       "      <th>2024-09-01</th>\n",
       "      <td>5.13</td>\n",
       "    </tr>\n",
       "  </tbody>\n",
       "</table>\n",
       "<p>843 rows × 1 columns</p>\n",
       "</div>"
      ],
      "text/plain": [
       "            fed_rate\n",
       "date                \n",
       "1954-07-01      0.80\n",
       "1954-08-01      1.22\n",
       "1954-09-01      1.07\n",
       "1954-10-01      0.85\n",
       "1954-11-01      0.83\n",
       "...              ...\n",
       "2024-05-01      5.33\n",
       "2024-06-01      5.33\n",
       "2024-07-01      5.33\n",
       "2024-08-01      5.33\n",
       "2024-09-01      5.13\n",
       "\n",
       "[843 rows x 1 columns]"
      ]
     },
     "execution_count": 4,
     "metadata": {},
     "output_type": "execute_result"
    }
   ],
   "source": [
    "df"
   ]
  },
  {
   "cell_type": "code",
   "execution_count": 5,
   "id": "242c1433-0a68-4a72-aacd-849cbcab4781",
   "metadata": {},
   "outputs": [],
   "source": [
    "# key is generated at Service Account and downloaded in json format\n",
    "# default credentials is set under environment variable \"GOOGLE_APPLICATION_CREDENTIALS\"\n",
    "# the value of \"GOOGLE_APPLICATION_CREDENTIALS\" is set to path of json e.g. '/Users/.../project_id.json'\n",
    "\n",
    "# get project_id from json\n",
    "credentials, project_id = google.auth.default()\n",
    "database_id = 'data'\n",
    "table_id = 'fed_rate'"
   ]
  },
  {
   "cell_type": "code",
   "execution_count": 6,
   "id": "fb67df97-e281-4b19-84f3-8e9f53031a4a",
   "metadata": {},
   "outputs": [
    {
     "name": "stderr",
     "output_type": "stream",
     "text": [
      "100%|████████████████████████████████████████████| 1/1 [00:00<00:00, 902.58it/s]\n"
     ]
    }
   ],
   "source": [
    "df.to_gbq(f'{database_id}.{table_id}', project_id=project_id, if_exists='replace')"
   ]
  },
  {
   "cell_type": "code",
   "execution_count": 7,
   "id": "7c0cb45a-ed72-4d13-9dfd-60d039468499",
   "metadata": {},
   "outputs": [],
   "source": [
    "# Check if data can be accessed\n",
    "client = bq.Client()\n",
    "sql = f'select * from {project_id}.{database_id}.{table_id} order by date'\n",
    "# save result into dataframe\n",
    "df_gcp = client.query(sql).to_dataframe().set_index('date')"
   ]
  },
  {
   "cell_type": "code",
   "execution_count": 8,
   "id": "11cdf90f-2e04-4ca9-a2f1-18d9dcb4f51f",
   "metadata": {},
   "outputs": [
    {
     "data": {
      "text/html": [
       "<div>\n",
       "<style scoped>\n",
       "    .dataframe tbody tr th:only-of-type {\n",
       "        vertical-align: middle;\n",
       "    }\n",
       "\n",
       "    .dataframe tbody tr th {\n",
       "        vertical-align: top;\n",
       "    }\n",
       "\n",
       "    .dataframe thead th {\n",
       "        text-align: right;\n",
       "    }\n",
       "</style>\n",
       "<table border=\"1\" class=\"dataframe\">\n",
       "  <thead>\n",
       "    <tr style=\"text-align: right;\">\n",
       "      <th></th>\n",
       "      <th>fed_rate</th>\n",
       "    </tr>\n",
       "    <tr>\n",
       "      <th>date</th>\n",
       "      <th></th>\n",
       "    </tr>\n",
       "  </thead>\n",
       "  <tbody>\n",
       "    <tr>\n",
       "      <th>1954-07-01</th>\n",
       "      <td>0.80</td>\n",
       "    </tr>\n",
       "    <tr>\n",
       "      <th>1954-08-01</th>\n",
       "      <td>1.22</td>\n",
       "    </tr>\n",
       "    <tr>\n",
       "      <th>1954-09-01</th>\n",
       "      <td>1.07</td>\n",
       "    </tr>\n",
       "    <tr>\n",
       "      <th>1954-10-01</th>\n",
       "      <td>0.85</td>\n",
       "    </tr>\n",
       "    <tr>\n",
       "      <th>1954-11-01</th>\n",
       "      <td>0.83</td>\n",
       "    </tr>\n",
       "    <tr>\n",
       "      <th>...</th>\n",
       "      <td>...</td>\n",
       "    </tr>\n",
       "    <tr>\n",
       "      <th>2024-05-01</th>\n",
       "      <td>5.33</td>\n",
       "    </tr>\n",
       "    <tr>\n",
       "      <th>2024-06-01</th>\n",
       "      <td>5.33</td>\n",
       "    </tr>\n",
       "    <tr>\n",
       "      <th>2024-07-01</th>\n",
       "      <td>5.33</td>\n",
       "    </tr>\n",
       "    <tr>\n",
       "      <th>2024-08-01</th>\n",
       "      <td>5.33</td>\n",
       "    </tr>\n",
       "    <tr>\n",
       "      <th>2024-09-01</th>\n",
       "      <td>5.13</td>\n",
       "    </tr>\n",
       "  </tbody>\n",
       "</table>\n",
       "<p>843 rows × 1 columns</p>\n",
       "</div>"
      ],
      "text/plain": [
       "            fed_rate\n",
       "date                \n",
       "1954-07-01      0.80\n",
       "1954-08-01      1.22\n",
       "1954-09-01      1.07\n",
       "1954-10-01      0.85\n",
       "1954-11-01      0.83\n",
       "...              ...\n",
       "2024-05-01      5.33\n",
       "2024-06-01      5.33\n",
       "2024-07-01      5.33\n",
       "2024-08-01      5.33\n",
       "2024-09-01      5.13\n",
       "\n",
       "[843 rows x 1 columns]"
      ]
     },
     "execution_count": 8,
     "metadata": {},
     "output_type": "execute_result"
    }
   ],
   "source": [
    "df_gcp"
   ]
  },
  {
   "cell_type": "code",
   "execution_count": 9,
   "id": "8ad304bd-1bca-4bb2-9a4f-09fcd170eb61",
   "metadata": {},
   "outputs": [
    {
     "data": {
      "text/plain": [
       "True"
      ]
     },
     "execution_count": 9,
     "metadata": {},
     "output_type": "execute_result"
    }
   ],
   "source": [
    "# check if dataframes are the same before and after store in BigQuery\n",
    "df.equals(df_gcp)"
   ]
  },
  {
   "cell_type": "code",
   "execution_count": null,
   "id": "4d8b4659-54f4-4236-bef5-b108225c8a23",
   "metadata": {},
   "outputs": [],
   "source": []
  }
 ],
 "metadata": {
  "kernelspec": {
   "display_name": "Python 3 (ipykernel)",
   "language": "python",
   "name": "python3"
  },
  "language_info": {
   "codemirror_mode": {
    "name": "ipython",
    "version": 3
   },
   "file_extension": ".py",
   "mimetype": "text/x-python",
   "name": "python",
   "nbconvert_exporter": "python",
   "pygments_lexer": "ipython3",
   "version": "3.11.4"
  }
 },
 "nbformat": 4,
 "nbformat_minor": 5
}
